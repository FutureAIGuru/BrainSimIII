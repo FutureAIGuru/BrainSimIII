{
 "cells": [
  {
   "cell_type": "markdown",
   "id": "bac6fbea",
   "metadata": {},
   "source": [
    "# Demo: Basic ideas of the Attribute Bubbling agent"
   ]
  },
  {
   "cell_type": "code",
   "execution_count": 1,
   "id": "93bb9d76-3ed2-4484-ab5e-7164620e074a",
   "metadata": {},
   "outputs": [
    {
     "data": {
      "text/plain": [
       "'/opt/anaconda3/envs/brainsim/bin/python'"
      ]
     },
     "execution_count": 1,
     "metadata": {},
     "output_type": "execute_result"
    }
   ],
   "source": [
    "import sys\n",
    "sys.executable"
   ]
  },
  {
   "cell_type": "markdown",
   "id": "a1621ad5",
   "metadata": {},
   "source": [
    "## Import UKS"
   ]
  },
  {
   "cell_type": "code",
   "execution_count": 2,
   "id": "112346a8-ba28-4b8f-9d9c-5900cd6a01a0",
   "metadata": {},
   "outputs": [
    {
     "name": "stdout",
     "output_type": "stream",
     "text": [
      "successful UKS import\n"
     ]
    },
    {
     "data": {
      "text/plain": [
       "<UKS.UKS object at 0x7ff4f8477a80>"
      ]
     },
     "execution_count": 2,
     "metadata": {},
     "output_type": "execute_result"
    }
   ],
   "source": [
    "from uks import UKS\n",
    "\n",
    "uks = UKS()\n",
    "uks"
   ]
  },
  {
   "cell_type": "markdown",
   "id": "ab24d41b",
   "metadata": {},
   "source": [
    "## Take a look at initial list of all things in UKS\n",
    "\n",
    "<html>\n",
    "    <br />\n",
    "    <font size=\"4\">\n",
    "        We only care about things that have children, because leaf nodes cannot have any attributes bubbled into them.\n",
    "    </font>\n",
    "</html>"
   ]
  },
  {
   "cell_type": "code",
   "execution_count": 5,
   "id": "748a9fac",
   "metadata": {},
   "outputs": [
    {
     "name": "stdout",
     "output_type": "stream",
     "text": [
      "['Thing', 'Object', 'Action', 'unknownObject', 'is-a', 'inverseOf', 'hasProperty', 'is', 'RelationshipType', 'has-child', 'isExclusive', 'isTransitive', 'has', 'ClauseType', 'number', 'greaterThan', 'lessThan', 'digit', 'isSimilarTo', 'isCommutative', 'hasDigit', '.', '0', '2', '1', '3', '4', '5', '6', '7', '8', '9', 'some', 'many', 'none']\n"
     ]
    }
   ],
   "source": [
    "## Take a look at everything, just to be sure.\n",
    "print([thing.Label for thing in uks.UKSList])"
   ]
  },
  {
   "cell_type": "code",
   "execution_count": 4,
   "id": "6ffc1e42",
   "metadata": {},
   "outputs": [
    {
     "name": "stdout",
     "output_type": "stream",
     "text": [
      "['Thing', 'Object', 'RelationshipType', 'has', 'number', 'digit']\n"
     ]
    }
   ],
   "source": [
    "all_things_with_children = [thing for thing in uks.UKSList if thing.Children.Count != 0]\n",
    "\n",
    "print([thing.Label for thing in all_things_with_children])"
   ]
  },
  {
   "cell_type": "code",
   "execution_count": null,
   "id": "48e1897c",
   "metadata": {},
   "outputs": [],
   "source": []
  },
  {
   "cell_type": "markdown",
   "id": "64041cec",
   "metadata": {},
   "source": [
    "## Introduce new things and attributes \n",
    "\n",
    "<html>\n",
    "    <br />\n",
    "    <font size=\"4\">\n",
    "        Add a bunch of statements, and see which relationships are also added.\n",
    "    </font>\n",
    "</html>"
   ]
  },
  {
   "cell_type": "code",
   "execution_count": 8,
   "id": "7ca73ea7",
   "metadata": {},
   "outputs": [
    {
     "data": {
      "text/plain": [
       "<UKS.Relationship object at 0x7ff5097aa0c0>"
      ]
     },
     "execution_count": 8,
     "metadata": {},
     "output_type": "execute_result"
    }
   ],
   "source": [
    "uks.AddStatement(\"Fido\", \"is-a\", \"dog\")\n",
    "uks.AddStatement(\"Spot\", \"is-a\", \"dog\")\n",
    "# uks.AddStatement(\"Trip is-a dog\")\n",
    "\n",
    "uks.AddStatement(\"Fido\", \"has\", \"leg\", None, None, \"4\")\n",
    "uks.AddStatement(\"Spot\", \"has\", \"leg\", None, None, \"4\")"
   ]
  },
  {
   "cell_type": "code",
   "execution_count": 9,
   "id": "bc96f479",
   "metadata": {},
   "outputs": [
    {
     "name": "stdout",
     "output_type": "stream",
     "text": [
      "['Thing', 'Object', 'Action', 'unknownObject', 'is-a', 'inverseOf', 'hasProperty', 'is', 'RelationshipType', 'has-child', 'isExclusive', 'isTransitive', 'has', 'ClauseType', 'number', 'greaterThan', 'lessThan', 'digit', 'isSimilarTo', 'isCommutative', 'hasDigit', '.', '0', '2', '1', '3', '4', '5', '6', '7', '8', '9', 'some', 'many', 'none', 'Fido', 'dog', 'Spot', 'leg', 'leg.4']\n",
      "\n",
      "['Thing', 'Object', 'unknownObject', 'RelationshipType', 'has', 'number', 'digit', 'dog', 'leg']\n"
     ]
    }
   ],
   "source": [
    "## Take a look at everything, just to be sure.\n",
    "print([thing.Label for thing in uks.UKSList])\n",
    "\n",
    "all_things_with_children = [thing for thing in uks.UKSList if thing.Children.Count != 0]\n",
    "\n",
    "print(\"\")\n",
    "print([thing.Label for thing in all_things_with_children])"
   ]
  },
  {
   "cell_type": "code",
   "execution_count": null,
   "id": "36f99e61",
   "metadata": {},
   "outputs": [],
   "source": []
  },
  {
   "cell_type": "markdown",
   "id": "6cadcaf5",
   "metadata": {},
   "source": [
    "## Check all the relationships of added things\n",
    "\n",
    "<html>\n",
    "    <br />\n",
    "    <font size=\"4\">\n",
    "        We will just use the labels, \"dog\", \"Fido\", and \"Spot\", for simplicity.\n",
    "    </font>\n",
    "</html>"
   ]
  },
  {
   "cell_type": "code",
   "execution_count": 10,
   "id": "7cda8292",
   "metadata": {},
   "outputs": [
    {
     "name": "stdout",
     "output_type": "stream",
     "text": [
      "['dog->has-child->Fido', 'dog->has-child->Spot']\n",
      "['Fido->has->leg.4']\n",
      "['Spot->has->leg.4']\n"
     ]
    }
   ],
   "source": [
    "print([rel.ToString() for rel in uks.Labeled(\"dog\").Relationships])\n",
    "print([rel.ToString() for rel in uks.Labeled(\"Fido\").Relationships])\n",
    "print([rel.ToString() for rel in uks.Labeled(\"Spot\").Relationships])"
   ]
  },
  {
   "cell_type": "markdown",
   "id": "2840e677",
   "metadata": {},
   "source": [
    "## **Core Functionality**: Do attribute bubbling"
   ]
  },
  {
   "cell_type": "code",
   "execution_count": 11,
   "id": "22465efd",
   "metadata": {},
   "outputs": [],
   "source": [
    "thresh = 1\n",
    "\n",
    "for parent in all_things_with_children:\n",
    "    child_rels_to_be_removed = []\n",
    "    reltype_count_dict = {}      # Dict[Tuple[str, str]: int]\n",
    "    reltype_child_rel_dict = {}  # Dict[Tuple[str, str]: List[Tuple[Thing, Thing]]]\n",
    "    for child in parent.Children:\n",
    "        rels = child.Relationships\n",
    "        for rel in rels:\n",
    "            if rel.relType.Label not in [\"has-child\", \"hasProperty\", \"inverseOf\"]:\n",
    "                reltype = (rel.relType.Label, rel.target.Label)\n",
    "                if reltype not in reltype_count_dict.keys():\n",
    "                    reltype_count_dict[reltype] = 1\n",
    "                else:\n",
    "                    reltype_count_dict[reltype] += 1\n",
    "                if reltype not in reltype_child_rel_dict.keys():\n",
    "                    reltype_child_rel_dict[reltype] = [(child, rel)]\n",
    "                else:\n",
    "                    reltype_child_rel_dict[reltype] += [(child, rel)]\n",
    "    for reltype, count in reltype_count_dict.items():\n",
    "        if count > thresh:\n",
    "            uks.AddStatement(parent.Label, reltype[0], reltype[1])\n",
    "            for child, rel in reltype_child_rel_dict[reltype]:\n",
    "                child.RemoveRelationship(rel)"
   ]
  },
  {
   "cell_type": "code",
   "execution_count": 12,
   "id": "b1300d45",
   "metadata": {},
   "outputs": [
    {
     "name": "stdout",
     "output_type": "stream",
     "text": [
      "['dog->has-child->Fido', 'dog->has-child->Spot', 'dog->has->leg.4']\n",
      "[]\n",
      "[]\n"
     ]
    }
   ],
   "source": [
    "print([rel.ToString() for rel in uks.Labeled(\"dog\").Relationships])\n",
    "print([rel.ToString() for rel in uks.Labeled(\"Fido\").Relationships])\n",
    "print([rel.ToString() for rel in uks.Labeled(\"Spot\").Relationships])"
   ]
  },
  {
   "cell_type": "code",
   "execution_count": null,
   "id": "33ad550b",
   "metadata": {},
   "outputs": [],
   "source": []
  },
  {
   "cell_type": "code",
   "execution_count": null,
   "id": "38ac74b0",
   "metadata": {},
   "outputs": [],
   "source": []
  }
 ],
 "metadata": {
  "kernelspec": {
   "display_name": "Python 3 (ipykernel)",
   "language": "python",
   "name": "python3"
  },
  "language_info": {
   "codemirror_mode": {
    "name": "ipython",
    "version": 3
   },
   "file_extension": ".py",
   "mimetype": "text/x-python",
   "name": "python",
   "nbconvert_exporter": "python",
   "pygments_lexer": "ipython3",
   "version": "3.10.14"
  }
 },
 "nbformat": 4,
 "nbformat_minor": 5
}
